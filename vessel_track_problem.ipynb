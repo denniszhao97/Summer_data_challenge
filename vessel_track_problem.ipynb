{
 "cells": [
  {
   "cell_type": "markdown",
   "metadata": {},
   "source": [
    "# Algorithms for Threat Detection Data\n",
    "By Zhonghao Zhao and Bingxue An, under advise of Professor Bo Li"
   ]
  },
  {
   "cell_type": "code",
   "execution_count": 1,
   "metadata": {},
   "outputs": [
    {
     "name": "stdout",
     "output_type": "stream",
     "text": [
      "Requirement already satisfied: pandas-profiling in /Users/zhonghaozhao/anaconda3/lib/python3.6/site-packages (1.4.2)\n",
      "Requirement already satisfied: pandas>=0.19 in /Users/zhonghaozhao/anaconda3/lib/python3.6/site-packages (from pandas-profiling) (0.23.0)\n",
      "Requirement already satisfied: six>=1.9 in /Users/zhonghaozhao/anaconda3/lib/python3.6/site-packages (from pandas-profiling) (1.11.0)\n",
      "Requirement already satisfied: matplotlib>=1.4 in /Users/zhonghaozhao/anaconda3/lib/python3.6/site-packages (from pandas-profiling) (2.2.2)\n",
      "Requirement already satisfied: jinja2>=2.8 in /Users/zhonghaozhao/anaconda3/lib/python3.6/site-packages (from pandas-profiling) (2.10)\n",
      "Requirement already satisfied: python-dateutil>=2.5.0 in /Users/zhonghaozhao/anaconda3/lib/python3.6/site-packages (from pandas>=0.19->pandas-profiling) (2.7.3)\n",
      "Requirement already satisfied: pytz>=2011k in /Users/zhonghaozhao/anaconda3/lib/python3.6/site-packages (from pandas>=0.19->pandas-profiling) (2018.4)\n",
      "Requirement already satisfied: numpy>=1.9.0 in /Users/zhonghaozhao/anaconda3/lib/python3.6/site-packages (from pandas>=0.19->pandas-profiling) (1.14.3)\n",
      "Requirement already satisfied: cycler>=0.10 in /Users/zhonghaozhao/anaconda3/lib/python3.6/site-packages (from matplotlib>=1.4->pandas-profiling) (0.10.0)\n",
      "Requirement already satisfied: pyparsing!=2.0.4,!=2.1.2,!=2.1.6,>=2.0.1 in /Users/zhonghaozhao/anaconda3/lib/python3.6/site-packages (from matplotlib>=1.4->pandas-profiling) (2.2.0)\n",
      "Requirement already satisfied: kiwisolver>=1.0.1 in /Users/zhonghaozhao/anaconda3/lib/python3.6/site-packages (from matplotlib>=1.4->pandas-profiling) (1.0.1)\n",
      "Requirement already satisfied: MarkupSafe>=0.23 in /Users/zhonghaozhao/anaconda3/lib/python3.6/site-packages (from jinja2>=2.8->pandas-profiling) (1.0)\n",
      "Requirement already satisfied: setuptools in /Users/zhonghaozhao/anaconda3/lib/python3.6/site-packages (from kiwisolver>=1.0.1->matplotlib>=1.4->pandas-profiling) (39.1.0)\n",
      "\u001b[31mspyder 3.3.2 requires pyqt5<5.10; python_version >= \"3\", which is not installed.\u001b[0m\n",
      "\u001b[31mdistributed 1.21.8 requires msgpack, which is not installed.\u001b[0m\n",
      "\u001b[33mYou are using pip version 10.0.1, however version 19.1.1 is available.\n",
      "You should consider upgrading via the 'pip install --upgrade pip' command.\u001b[0m\n"
     ]
    }
   ],
   "source": [
    "# import packages \n",
    "import numpy as np\n",
    "import pandas as pd\n",
    "import matplotlib.pyplot as plt\n",
    "import sklearn\n",
    "import math\n",
    "import warnings\n",
    "warnings.filterwarnings('ignore')\n",
    "import sys\n",
    "!{sys.executable} -m pip install pandas-profiling\n",
    "import pandas_profiling"
   ]
  },
  {
   "cell_type": "code",
   "execution_count": 2,
   "metadata": {},
   "outputs": [
    {
     "name": "stdout",
     "output_type": "stream",
     "text": [
      "<class 'pandas.core.frame.DataFrame'>\n",
      "RangeIndex: 13714 entries, 0 to 13713\n",
      "Data columns (total 7 columns):\n",
      "OBJECT_ID             13714 non-null int64\n",
      "VID                   13714 non-null int64\n",
      "SEQUENCE_DTTM         13714 non-null object\n",
      "LAT                   13714 non-null float64\n",
      "LON                   13714 non-null float64\n",
      "SPEED_OVER_GROUND     13714 non-null int64\n",
      "COURSE_OVER_GROUND    13714 non-null int64\n",
      "dtypes: float64(2), int64(4), object(1)\n",
      "memory usage: 750.1+ KB\n"
     ]
    },
    {
     "data": {
      "text/html": [
       "<div>\n",
       "<style scoped>\n",
       "    .dataframe tbody tr th:only-of-type {\n",
       "        vertical-align: middle;\n",
       "    }\n",
       "\n",
       "    .dataframe tbody tr th {\n",
       "        vertical-align: top;\n",
       "    }\n",
       "\n",
       "    .dataframe thead th {\n",
       "        text-align: right;\n",
       "    }\n",
       "</style>\n",
       "<table border=\"1\" class=\"dataframe\">\n",
       "  <thead>\n",
       "    <tr style=\"text-align: right;\">\n",
       "      <th></th>\n",
       "      <th>OBJECT_ID</th>\n",
       "      <th>VID</th>\n",
       "      <th>SEQUENCE_DTTM</th>\n",
       "      <th>LAT</th>\n",
       "      <th>LON</th>\n",
       "      <th>SPEED_OVER_GROUND</th>\n",
       "      <th>COURSE_OVER_GROUND</th>\n",
       "    </tr>\n",
       "  </thead>\n",
       "  <tbody>\n",
       "    <tr>\n",
       "      <th>0</th>\n",
       "      <td>1</td>\n",
       "      <td>100008</td>\n",
       "      <td>14:00:00</td>\n",
       "      <td>36.906850</td>\n",
       "      <td>-76.089022</td>\n",
       "      <td>1</td>\n",
       "      <td>1641</td>\n",
       "    </tr>\n",
       "    <tr>\n",
       "      <th>1</th>\n",
       "      <td>2</td>\n",
       "      <td>100015</td>\n",
       "      <td>14:00:00</td>\n",
       "      <td>36.950000</td>\n",
       "      <td>-76.026834</td>\n",
       "      <td>11</td>\n",
       "      <td>2815</td>\n",
       "    </tr>\n",
       "    <tr>\n",
       "      <th>2</th>\n",
       "      <td>3</td>\n",
       "      <td>100016</td>\n",
       "      <td>14:00:00</td>\n",
       "      <td>36.906783</td>\n",
       "      <td>-76.089084</td>\n",
       "      <td>0</td>\n",
       "      <td>2632</td>\n",
       "    </tr>\n",
       "    <tr>\n",
       "      <th>3</th>\n",
       "      <td>4</td>\n",
       "      <td>100019</td>\n",
       "      <td>14:00:00</td>\n",
       "      <td>37.003000</td>\n",
       "      <td>-76.283167</td>\n",
       "      <td>148</td>\n",
       "      <td>2460</td>\n",
       "    </tr>\n",
       "    <tr>\n",
       "      <th>4</th>\n",
       "      <td>5</td>\n",
       "      <td>100016</td>\n",
       "      <td>14:00:01</td>\n",
       "      <td>36.906783</td>\n",
       "      <td>-76.089084</td>\n",
       "      <td>0</td>\n",
       "      <td>2632</td>\n",
       "    </tr>\n",
       "  </tbody>\n",
       "</table>\n",
       "</div>"
      ],
      "text/plain": [
       "   OBJECT_ID     VID SEQUENCE_DTTM        LAT        LON  SPEED_OVER_GROUND  \\\n",
       "0          1  100008      14:00:00  36.906850 -76.089022                  1   \n",
       "1          2  100015      14:00:00  36.950000 -76.026834                 11   \n",
       "2          3  100016      14:00:00  36.906783 -76.089084                  0   \n",
       "3          4  100019      14:00:00  37.003000 -76.283167                148   \n",
       "4          5  100016      14:00:01  36.906783 -76.089084                  0   \n",
       "\n",
       "   COURSE_OVER_GROUND  \n",
       "0                1641  \n",
       "1                2815  \n",
       "2                2632  \n",
       "3                2460  \n",
       "4                2632  "
      ]
     },
     "execution_count": 2,
     "metadata": {},
     "output_type": "execute_result"
    }
   ],
   "source": [
    "# read data\n",
    "data_number = [1,2,3]\n",
    "dataset = pd.read_csv(\"DATA/\"+ \"AIS_Challenge_Problem_Set_0_\"+ str(1) + \"_withVID.csv\")\n",
    "dataset.info()\n",
    "dataset.head()"
   ]
  },
  {
   "cell_type": "code",
   "execution_count": 3,
   "metadata": {},
   "outputs": [
    {
     "data": {
      "text/plain": [
       "OBJECT_ID             0\n",
       "VID                   0\n",
       "SEQUENCE_DTTM         0\n",
       "LAT                   0\n",
       "LON                   0\n",
       "SPEED_OVER_GROUND     0\n",
       "COURSE_OVER_GROUND    0\n",
       "dtype: int64"
      ]
     },
     "execution_count": 3,
     "metadata": {},
     "output_type": "execute_result"
    }
   ],
   "source": [
    "#check whether there is missing values in the data\n",
    "dataset.isnull().sum()"
   ]
  },
  {
   "cell_type": "code",
   "execution_count": 4,
   "metadata": {},
   "outputs": [],
   "source": [
    "#summary of the data\n",
    "#pandas_profiling.ProfileReport(dataset)"
   ]
  },
  {
   "cell_type": "code",
   "execution_count": 7,
   "metadata": {},
   "outputs": [
    {
     "data": {
      "image/png": "[encoded data removed]",
      "text/plain": [
       "<Figure size 432x288 with 1 Axes>"
      ]
     },
     "metadata": {},
     "output_type": "display_data"
    }
   ],
   "source": [
    "#Glimpse at all the vessel tracks\n",
    "cnames = ['aliceblue', 'brown', 'darkblue', 'darkviolet', 'gold', 'gray', 'green', 'hotpink', 'oldlace', 'pink','purple',\n",
    "'red', 'salmon', 'silver', 'snow', 'teal','tomato', 'white', 'yellow','black']\n",
    "for vid in range(100001,100021):\n",
    "    sample = dataset[dataset.VID == vid]\n",
    "    temp_x = [element.LAT for element in sample.itertuples()]\n",
    "    temp_y = [element.LON for element in sample.itertuples()]\n",
    "    x = np.array(temp_x)\n",
    "    y = np.array(temp_y)\n",
    "    plt.scatter(y,x, c = cnames[vid-100001])"
   ]
  },
  {
   "cell_type": "code",
   "execution_count": 8,
   "metadata": {},
   "outputs": [],
   "source": [
    "# A method to convert HH-MM-SS to seconds\n",
    "def get_sec(time_str):\n",
    "    h, m, s = time_str.split(':')\n",
    "    return int(h) * 3600 + int(m) * 60 + int(s)\n",
    "\n",
    "# a node class for each data\n",
    "class Vessel_node:\n",
    "    def __init__(self, object_id, time, lat, lon, speed, direction):\n",
    "        self.OBJECT_ID = object_id\n",
    "        self.VID = -1\n",
    "        self.Time = time\n",
    "        self.LAT = lat\n",
    "        self.LON = lon\n",
    "        self.Speed = speed*0.514444\n",
    "        self.Direction = direction\n",
    "    \n",
    "    def set_VID(self, vid):\n",
    "        self.VID = vid\n",
    "    \n",
    "    def get_ID(self):\n",
    "        return self.OBJECT_ID\n",
    "    \n",
    "    def get_LAT(self):\n",
    "        return self.LAT\n",
    "    \n",
    "    def get_LON(self):\n",
    "        return self.LON\n",
    "    \n",
    "    def get_Time(self):\n",
    "        return self.Time\n",
    "    \n",
    "    def get_SPEED(self):\n",
    "        return self.Speed\n",
    "    \n",
    "    def get_DIRECTION(self):\n",
    "        return self.Direction\n",
    "    \n",
    "# a track class to keep all tracks\n",
    "class All_tracks:\n",
    "    def __init__(self):\n",
    "        self.tracks = []\n",
    "        self.total_track = 0\n",
    "        self.node_tracks = []\n",
    "    \n",
    "    def get_total_track(self):\n",
    "        return self.total_track\n",
    "        \n",
    "    def add_track(self, node):\n",
    "        new_track = [node.get_ID()]\n",
    "        new_node_track = [node]\n",
    "        self.total_track += 1\n",
    "        node.set_VID(self.total_track)\n",
    "        self.tracks.append(new_track)\n",
    "        self.node_tracks.append(new_node_track) \n",
    "     \n",
    "    def add_node(self, track_id, node):\n",
    "        node.set_VID(track_id)\n",
    "        self.tracks[track_id - 1].append(node.get_ID())\n",
    "        self.node_tracks[track_id - 1].append(node)\n",
    "    \n",
    "    def print_track(self):\n",
    "        for track in self.tracks:\n",
    "            print(track)\n",
    "            print('\\n')\n",
    "        \n",
    "    def print_track_number(self):\n",
    "        print(self.total_track)\n",
    "    \n",
    "    def get_node_track(self):\n",
    "        return self.node_tracks\n",
    "    \n",
    "    def get_track_number(self):\n",
    "        return self.total_track"
   ]
  },
  {
   "cell_type": "code",
   "execution_count": 9,
   "metadata": {},
   "outputs": [
    {
     "name": "stdout",
     "output_type": "stream",
     "text": [
      "20\n"
     ]
    }
   ],
   "source": [
    "#test to group all exisiting tracks into our own all_track class, get expect result\n",
    "tracker = All_tracks()\n",
    "for vid in range(100001, 100021):\n",
    "    sample = dataset[dataset.VID == vid]\n",
    "    all_id = np.array(sample.OBJECT_ID)\n",
    "    counter = 0\n",
    "    for cur_id in all_id:\n",
    "        temp_1 = sample[sample.OBJECT_ID == cur_id]\n",
    "        temp_1 = temp_1.iloc[0]\n",
    "        a = temp_1.tolist()\n",
    "        node_1 = Vessel_node(a[0],get_sec(a[2]), a[3], a[4], a[5]/10, a[6]/10)\n",
    "        if(counter == 0):\n",
    "            tracker.add_track(node_1)\n",
    "        else:\n",
    "            tracker.add_node(tracker.get_total_track(), node_1)\n",
    "        \n",
    "        counter += 1\n",
    "\n",
    "tracker.print_track_number()"
   ]
  },
  {
   "cell_type": "code",
   "execution_count": 10,
   "metadata": {},
   "outputs": [
    {
     "name": "stdout",
     "output_type": "stream",
     "text": [
      "[1.65736196e+04 3.93629223e+04 1.91536464e+06 1.53403882e+03\n",
      " 3.61431463e+00 3.51285075e+00 1.17096806e+03 2.05047128e+00\n",
      " 6.35067162e+03 4.45784630e+04 1.39219620e+04 1.10373534e+05\n",
      " 8.99179401e+04 3.44828289e+02 2.71587776e+03 1.41461777e+04\n",
      " 3.82783549e+03 9.29820017e+02 1.25649458e+03 2.05952581e+03]\n",
      "[1.62672485e+03 2.75398858e+03 6.85144993e+04 2.88206713e+00\n",
      " 7.39923825e-02 8.50641141e-02 9.61569942e-02 8.52840689e-02\n",
      " 5.36523094e+02 7.05283732e+02 3.60882220e+02 1.89895505e+03\n",
      " 9.86718456e+03 0.00000000e+00 3.20209928e-01 0.00000000e+00\n",
      " 8.47630865e+02 0.00000000e+00 2.81312636e+02 3.16526380e+00]\n"
     ]
    }
   ],
   "source": [
    "'''The initial assumption is the accleration is constant between two nodes, use v_1-v_0 / (t_1-t_0) to calculate \n",
    "the accleration, use v_0*t + 0.5*a*t^2 to calculate the desired final x, y location, then compare it with the final \n",
    "x, y location, calculate the desired distance difference sqrt (x_expect-x)^2 + (y_expect-y)^2 for every track, compare\n",
    "it with the actual distane, using actual lon and lat to calculate\n",
    "'''\n",
    "def calculate_distance(lat2, lon2, lat1, lon1):\n",
    "    R = 6371000; #earth radian\n",
    "    l_1 = math.radians(lat1)\n",
    "    l_2 = math.radians(lat2)\n",
    "    lat_diff = math.radians(lat2-lat1)\n",
    "    lon_diff = math.radians(lon2-lon1)\n",
    "    temp = math.sin(lat_diff/2)**2 + math.cos(l_1) * math.cos(l_2) * math.sin(lon_diff/2)**2\n",
    "    c = 2 * math.atan2(math.sqrt(temp), math.sqrt(1-temp))\n",
    "    d = R * c\n",
    "    return d\n",
    "\n",
    "all_nodes = tracker.get_node_track()\n",
    "all_max_error = np.zeros(tracker.get_track_number())\n",
    "all_median_error = np.zeros(tracker.get_track_number())\n",
    "for i in range(0,len(all_nodes)):\n",
    "    total_nodes = len(all_nodes[i])\n",
    "    error_array = np.zeros(total_nodes-1)\n",
    "    for j in range(0,total_nodes-1):\n",
    "        a = all_nodes[i][j]\n",
    "        b = all_nodes[i][j+1]\n",
    "        angle_1 = math.radians(a.get_DIRECTION())\n",
    "        angle_2 = math.radians(b.get_DIRECTION())\n",
    "        v_diff_x = b.get_SPEED()*math.cos(angle_2) - a.get_SPEED()*math.cos(angle_1)\n",
    "        v_diff_y = b.get_SPEED()*math.sin(angle_2) - a.get_SPEED()*math.sin(angle_1)\n",
    "        t_diff = b.get_Time()- a.get_Time()\n",
    "        acc_x = v_diff_x / t_diff\n",
    "        acc_y = v_diff_y / t_diff\n",
    "        lon_diff_expect = a.get_SPEED()*math.cos(angle_1)*t_diff + 0.5*acc_x*t_diff**2\n",
    "        lat_diff_expect = a.get_SPEED()*math.sin(angle_1)*t_diff + 0.5*acc_y*t_diff**2\n",
    "        total_diff = math.sqrt(lon_diff_expect**2 + lat_diff_expect**2)\n",
    "        d = calculate_distance(b.get_LAT(), b.get_LON(), a.get_LAT(), b.get_LON())\n",
    "        error_array[j] = (abs(d)-abs(total_diff))**2\n",
    "    all_max_error[i] = max(error_array)\n",
    "    all_median_error[i] = np.median(error_array)\n",
    "\n",
    "print(all_max_error)\n",
    "print(all_median_error)"
   ]
  },
  {
   "cell_type": "code",
   "execution_count": 21,
   "metadata": {},
   "outputs": [
    {
     "name": "stdout",
     "output_type": "stream",
     "text": [
      "827.7348567654531\n",
      "20\n"
     ]
    }
   ],
   "source": [
    "thresheld = 10*np.max(all_median_error)\n",
    "print(math.sqrt(thresheld))\n",
    "new_tracker = All_tracks()\n",
    "for index, row in dataset.iterrows():\n",
    "    a = row.tolist()\n",
    "    node = Vessel_node(a[0],get_sec(a[2]), a[3], a[4], a[5]/10, a[6]/10)\n",
    "    if(index == 0):\n",
    "        new_tracker.add_track(node)\n",
    "    else:\n",
    "        node_tracks = new_tracker.get_node_track()\n",
    "        smallest, track_id = thresheld, -1\n",
    "        for i in range(new_tracker.get_track_number()):\n",
    "            each_track = node_tracks[i]\n",
    "            if(each_track[-1].get_Time() == node.get_Time()):\n",
    "                continue\n",
    "            else:\n",
    "                a = each_track[-1]\n",
    "                b = node\n",
    "                angle_1 = math.radians(a.get_DIRECTION())\n",
    "                angle_2 = math.radians(b.get_DIRECTION())\n",
    "                v_diff_x = b.get_SPEED()*math.cos(angle_2) - a.get_SPEED()*math.cos(angle_1)\n",
    "                v_diff_y = b.get_SPEED()*math.sin(angle_2) - a.get_SPEED()*math.sin(angle_1)\n",
    "                t_diff = b.get_Time()- a.get_Time()\n",
    "                acc_x = v_diff_x / t_diff\n",
    "                acc_y = v_diff_y / t_diff\n",
    "                lon_diff_expect = a.get_SPEED()*math.cos(angle_1)*t_diff + 0.5*acc_x*t_diff**2\n",
    "                lat_diff_expect = a.get_SPEED()*math.sin(angle_1)*t_diff + 0.5*acc_y*t_diff**2\n",
    "                total_diff = math.sqrt(lon_diff_expect**2 + lat_diff_expect**2)\n",
    "                d = calculate_distance(b.get_LAT(), b.get_LON(), a.get_LAT(), b.get_LON())\n",
    "                error = (abs(d)-abs(total_diff))**2\n",
    "                if(error < thresheld and error < smallest):\n",
    "                    smallest = error\n",
    "                    track_id = i+1\n",
    "        \n",
    "        if(track_id == -1):\n",
    "            new_tracker.add_track(node)\n",
    "        else: \n",
    "            new_tracker.add_node(track_id, node)\n",
    "\n",
    "\n",
    "new_tracker.print_track_number()"
   ]
  },
  {
   "cell_type": "code",
   "execution_count": 22,
   "metadata": {},
   "outputs": [
    {
     "data": {
      "image/png": "[encoded data removed]",
      "text/plain": [
       "<Figure size 432x288 with 1 Axes>"
      ]
     },
     "metadata": {},
     "output_type": "display_data"
    }
   ],
   "source": [
    "all_vessels = new_tracker.get_node_track()\n",
    "cnames = ['aliceblue', 'brown', 'darkblue', 'darkviolet', 'gold', 'gray', 'green', 'hotpink', 'oldlace', 'pink','purple',\n",
    "'red', 'salmon', 'silver', 'snow', 'teal','tomato', 'white', 'yellow', 'black']\n",
    "for i in range(new_tracker.get_track_number()):\n",
    "    track = all_vessels[i]\n",
    "    temp_x = np.zeros(len(track))\n",
    "    temp_y = np.zeros(len(track))\n",
    "    counter = 0\n",
    "    for element in track:\n",
    "        temp_x[counter] = element.get_LON()\n",
    "        temp_y[counter]= element.get_LAT()\n",
    "        counter += 1\n",
    "    x = np.array(temp_x)\n",
    "    y = np.array(temp_y)\n",
    "    plt.scatter(x,y, c = cnames[i])"
   ]
  },
  {
   "cell_type": "code",
   "execution_count": null,
   "metadata": {},
   "outputs": [],
   "source": []
  }
 ],
 "metadata": {
  "kernelspec": {
   "display_name": "Python 3",
   "language": "python",
   "name": "python3"
  },
  "language_info": {
   "codemirror_mode": {
    "name": "ipython",
    "version": 3
   },
   "file_extension": ".py",
   "mimetype": "text/x-python",
   "name": "python",
   "nbconvert_exporter": "python",
   "pygments_lexer": "ipython3",
   "version": "3.6.8"
  }
 },
 "nbformat": 4,
 "nbformat_minor": 2
}
